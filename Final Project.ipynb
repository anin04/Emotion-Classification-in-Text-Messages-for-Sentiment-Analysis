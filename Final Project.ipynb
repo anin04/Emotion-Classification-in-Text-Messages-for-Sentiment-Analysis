{
  "cells": [
    {
      "cell_type": "code",
      "execution_count": null,
      "metadata": {
        "id": "RVhrvfZBhfYC"
      },
      "outputs": [],
      "source": [
        "!pip install -q kaggle"
      ]
    },
    {
      "cell_type": "code",
      "execution_count": null,
      "metadata": {
        "id": "sZ57QqRdic3Z"
      },
      "outputs": [],
      "source": [
        "from google.colab import userdata\n",
        "import os\n",
        "\n",
        "os.environ[\"KAGGLE_KEY\"] = userdata.get('KAGGLE_KEY')\n",
        "os.environ[\"KAGGLE_USERNAME\"] = userdata.get('KAGGLE_USERNAME')"
      ]
    },
    {
      "cell_type": "code",
      "execution_count": null,
      "metadata": {
        "id": "T4uzhiXbwWsq"
      },
      "outputs": [],
      "source": [
        "import pandas as pd\n",
        "import numpy as np\n",
        "import re\n",
        "import time\n",
        "import pickle\n",
        "import matplotlib.pyplot as plt\n",
        "import nltk\n",
        "from nltk.corpus import stopwords\n",
        "from sklearn.feature_extraction.text import CountVectorizer\n",
        "from sklearn.model_selection import train_test_split\n",
        "from sklearn.metrics import confusion_matrix\n",
        "from sklearn.linear_model import LogisticRegression"
      ]
    },
    {
      "cell_type": "markdown",
      "source": [
        "## Dataset"
      ],
      "metadata": {
        "id": "HPjbwBD0hw5j"
      }
    },
    {
      "cell_type": "code",
      "execution_count": null,
      "metadata": {
        "colab": {
          "base_uri": "https://localhost:8080/"
        },
        "id": "dChdzQ0WWSbi",
        "outputId": "ab873c91-da21-43b2-d41c-cca58e4949ea"
      },
      "outputs": [
        {
          "output_type": "stream",
          "name": "stdout",
          "text": [
            "Dataset URL: https://www.kaggle.com/datasets/nelgiriyewithana/emotions\n",
            "License(s): other\n",
            "Downloading emotions.zip to /content\n",
            " 57% 9.00M/15.7M [00:00<00:00, 15.6MB/s]\n",
            "100% 15.7M/15.7M [00:00<00:00, 28.1MB/s]\n"
          ]
        }
      ],
      "source": [
        "!kaggle datasets download -d nelgiriyewithana/emotions --unzip"
      ]
    },
    {
      "cell_type": "code",
      "execution_count": null,
      "metadata": {
        "colab": {
          "base_uri": "https://localhost:8080/",
          "height": 206
        },
        "id": "CoP0pzwsjqG0",
        "outputId": "f409ca5b-e329-4004-9117-191e81b9320d"
      },
      "outputs": [
        {
          "output_type": "execute_result",
          "data": {
            "text/plain": [
              "   Unnamed: 0                                               text  label\n",
              "0           0      i just feel really helpless and heavy hearted      4\n",
              "1           1  ive enjoyed being able to slouch about relax a...      0\n",
              "2           2  i gave up my internship with the dmrg and am f...      4\n",
              "3           3                         i dont know i feel so lost      0\n",
              "4           4  i am a kindergarten teacher and i am thoroughl...      4"
            ],
            "text/html": [
              "\n",
              "  <div id=\"df-e8cf237f-c764-4c9d-b387-bcfdffcf2e9a\" class=\"colab-df-container\">\n",
              "    <div>\n",
              "<style scoped>\n",
              "    .dataframe tbody tr th:only-of-type {\n",
              "        vertical-align: middle;\n",
              "    }\n",
              "\n",
              "    .dataframe tbody tr th {\n",
              "        vertical-align: top;\n",
              "    }\n",
              "\n",
              "    .dataframe thead th {\n",
              "        text-align: right;\n",
              "    }\n",
              "</style>\n",
              "<table border=\"1\" class=\"dataframe\">\n",
              "  <thead>\n",
              "    <tr style=\"text-align: right;\">\n",
              "      <th></th>\n",
              "      <th>Unnamed: 0</th>\n",
              "      <th>text</th>\n",
              "      <th>label</th>\n",
              "    </tr>\n",
              "  </thead>\n",
              "  <tbody>\n",
              "    <tr>\n",
              "      <th>0</th>\n",
              "      <td>0</td>\n",
              "      <td>i just feel really helpless and heavy hearted</td>\n",
              "      <td>4</td>\n",
              "    </tr>\n",
              "    <tr>\n",
              "      <th>1</th>\n",
              "      <td>1</td>\n",
              "      <td>ive enjoyed being able to slouch about relax a...</td>\n",
              "      <td>0</td>\n",
              "    </tr>\n",
              "    <tr>\n",
              "      <th>2</th>\n",
              "      <td>2</td>\n",
              "      <td>i gave up my internship with the dmrg and am f...</td>\n",
              "      <td>4</td>\n",
              "    </tr>\n",
              "    <tr>\n",
              "      <th>3</th>\n",
              "      <td>3</td>\n",
              "      <td>i dont know i feel so lost</td>\n",
              "      <td>0</td>\n",
              "    </tr>\n",
              "    <tr>\n",
              "      <th>4</th>\n",
              "      <td>4</td>\n",
              "      <td>i am a kindergarten teacher and i am thoroughl...</td>\n",
              "      <td>4</td>\n",
              "    </tr>\n",
              "  </tbody>\n",
              "</table>\n",
              "</div>\n",
              "    <div class=\"colab-df-buttons\">\n",
              "\n",
              "  <div class=\"colab-df-container\">\n",
              "    <button class=\"colab-df-convert\" onclick=\"convertToInteractive('df-e8cf237f-c764-4c9d-b387-bcfdffcf2e9a')\"\n",
              "            title=\"Convert this dataframe to an interactive table.\"\n",
              "            style=\"display:none;\">\n",
              "\n",
              "  <svg xmlns=\"http://www.w3.org/2000/svg\" height=\"24px\" viewBox=\"0 -960 960 960\">\n",
              "    <path d=\"M120-120v-720h720v720H120Zm60-500h600v-160H180v160Zm220 220h160v-160H400v160Zm0 220h160v-160H400v160ZM180-400h160v-160H180v160Zm440 0h160v-160H620v160ZM180-180h160v-160H180v160Zm440 0h160v-160H620v160Z\"/>\n",
              "  </svg>\n",
              "    </button>\n",
              "\n",
              "  <style>\n",
              "    .colab-df-container {\n",
              "      display:flex;\n",
              "      gap: 12px;\n",
              "    }\n",
              "\n",
              "    .colab-df-convert {\n",
              "      background-color: #E8F0FE;\n",
              "      border: none;\n",
              "      border-radius: 50%;\n",
              "      cursor: pointer;\n",
              "      display: none;\n",
              "      fill: #1967D2;\n",
              "      height: 32px;\n",
              "      padding: 0 0 0 0;\n",
              "      width: 32px;\n",
              "    }\n",
              "\n",
              "    .colab-df-convert:hover {\n",
              "      background-color: #E2EBFA;\n",
              "      box-shadow: 0px 1px 2px rgba(60, 64, 67, 0.3), 0px 1px 3px 1px rgba(60, 64, 67, 0.15);\n",
              "      fill: #174EA6;\n",
              "    }\n",
              "\n",
              "    .colab-df-buttons div {\n",
              "      margin-bottom: 4px;\n",
              "    }\n",
              "\n",
              "    [theme=dark] .colab-df-convert {\n",
              "      background-color: #3B4455;\n",
              "      fill: #D2E3FC;\n",
              "    }\n",
              "\n",
              "    [theme=dark] .colab-df-convert:hover {\n",
              "      background-color: #434B5C;\n",
              "      box-shadow: 0px 1px 3px 1px rgba(0, 0, 0, 0.15);\n",
              "      filter: drop-shadow(0px 1px 2px rgba(0, 0, 0, 0.3));\n",
              "      fill: #FFFFFF;\n",
              "    }\n",
              "  </style>\n",
              "\n",
              "    <script>\n",
              "      const buttonEl =\n",
              "        document.querySelector('#df-e8cf237f-c764-4c9d-b387-bcfdffcf2e9a button.colab-df-convert');\n",
              "      buttonEl.style.display =\n",
              "        google.colab.kernel.accessAllowed ? 'block' : 'none';\n",
              "\n",
              "      async function convertToInteractive(key) {\n",
              "        const element = document.querySelector('#df-e8cf237f-c764-4c9d-b387-bcfdffcf2e9a');\n",
              "        const dataTable =\n",
              "          await google.colab.kernel.invokeFunction('convertToInteractive',\n",
              "                                                    [key], {});\n",
              "        if (!dataTable) return;\n",
              "\n",
              "        const docLinkHtml = 'Like what you see? Visit the ' +\n",
              "          '<a target=\"_blank\" href=https://colab.research.google.com/notebooks/data_table.ipynb>data table notebook</a>'\n",
              "          + ' to learn more about interactive tables.';\n",
              "        element.innerHTML = '';\n",
              "        dataTable['output_type'] = 'display_data';\n",
              "        await google.colab.output.renderOutput(dataTable, element);\n",
              "        const docLink = document.createElement('div');\n",
              "        docLink.innerHTML = docLinkHtml;\n",
              "        element.appendChild(docLink);\n",
              "      }\n",
              "    </script>\n",
              "  </div>\n",
              "\n",
              "\n",
              "<div id=\"df-e89bf308-126b-4333-a867-738b105a0f9f\">\n",
              "  <button class=\"colab-df-quickchart\" onclick=\"quickchart('df-e89bf308-126b-4333-a867-738b105a0f9f')\"\n",
              "            title=\"Suggest charts\"\n",
              "            style=\"display:none;\">\n",
              "\n",
              "<svg xmlns=\"http://www.w3.org/2000/svg\" height=\"24px\"viewBox=\"0 0 24 24\"\n",
              "     width=\"24px\">\n",
              "    <g>\n",
              "        <path d=\"M19 3H5c-1.1 0-2 .9-2 2v14c0 1.1.9 2 2 2h14c1.1 0 2-.9 2-2V5c0-1.1-.9-2-2-2zM9 17H7v-7h2v7zm4 0h-2V7h2v10zm4 0h-2v-4h2v4z\"/>\n",
              "    </g>\n",
              "</svg>\n",
              "  </button>\n",
              "\n",
              "<style>\n",
              "  .colab-df-quickchart {\n",
              "      --bg-color: #E8F0FE;\n",
              "      --fill-color: #1967D2;\n",
              "      --hover-bg-color: #E2EBFA;\n",
              "      --hover-fill-color: #174EA6;\n",
              "      --disabled-fill-color: #AAA;\n",
              "      --disabled-bg-color: #DDD;\n",
              "  }\n",
              "\n",
              "  [theme=dark] .colab-df-quickchart {\n",
              "      --bg-color: #3B4455;\n",
              "      --fill-color: #D2E3FC;\n",
              "      --hover-bg-color: #434B5C;\n",
              "      --hover-fill-color: #FFFFFF;\n",
              "      --disabled-bg-color: #3B4455;\n",
              "      --disabled-fill-color: #666;\n",
              "  }\n",
              "\n",
              "  .colab-df-quickchart {\n",
              "    background-color: var(--bg-color);\n",
              "    border: none;\n",
              "    border-radius: 50%;\n",
              "    cursor: pointer;\n",
              "    display: none;\n",
              "    fill: var(--fill-color);\n",
              "    height: 32px;\n",
              "    padding: 0;\n",
              "    width: 32px;\n",
              "  }\n",
              "\n",
              "  .colab-df-quickchart:hover {\n",
              "    background-color: var(--hover-bg-color);\n",
              "    box-shadow: 0 1px 2px rgba(60, 64, 67, 0.3), 0 1px 3px 1px rgba(60, 64, 67, 0.15);\n",
              "    fill: var(--button-hover-fill-color);\n",
              "  }\n",
              "\n",
              "  .colab-df-quickchart-complete:disabled,\n",
              "  .colab-df-quickchart-complete:disabled:hover {\n",
              "    background-color: var(--disabled-bg-color);\n",
              "    fill: var(--disabled-fill-color);\n",
              "    box-shadow: none;\n",
              "  }\n",
              "\n",
              "  .colab-df-spinner {\n",
              "    border: 2px solid var(--fill-color);\n",
              "    border-color: transparent;\n",
              "    border-bottom-color: var(--fill-color);\n",
              "    animation:\n",
              "      spin 1s steps(1) infinite;\n",
              "  }\n",
              "\n",
              "  @keyframes spin {\n",
              "    0% {\n",
              "      border-color: transparent;\n",
              "      border-bottom-color: var(--fill-color);\n",
              "      border-left-color: var(--fill-color);\n",
              "    }\n",
              "    20% {\n",
              "      border-color: transparent;\n",
              "      border-left-color: var(--fill-color);\n",
              "      border-top-color: var(--fill-color);\n",
              "    }\n",
              "    30% {\n",
              "      border-color: transparent;\n",
              "      border-left-color: var(--fill-color);\n",
              "      border-top-color: var(--fill-color);\n",
              "      border-right-color: var(--fill-color);\n",
              "    }\n",
              "    40% {\n",
              "      border-color: transparent;\n",
              "      border-right-color: var(--fill-color);\n",
              "      border-top-color: var(--fill-color);\n",
              "    }\n",
              "    60% {\n",
              "      border-color: transparent;\n",
              "      border-right-color: var(--fill-color);\n",
              "    }\n",
              "    80% {\n",
              "      border-color: transparent;\n",
              "      border-right-color: var(--fill-color);\n",
              "      border-bottom-color: var(--fill-color);\n",
              "    }\n",
              "    90% {\n",
              "      border-color: transparent;\n",
              "      border-bottom-color: var(--fill-color);\n",
              "    }\n",
              "  }\n",
              "</style>\n",
              "\n",
              "  <script>\n",
              "    async function quickchart(key) {\n",
              "      const quickchartButtonEl =\n",
              "        document.querySelector('#' + key + ' button');\n",
              "      quickchartButtonEl.disabled = true;  // To prevent multiple clicks.\n",
              "      quickchartButtonEl.classList.add('colab-df-spinner');\n",
              "      try {\n",
              "        const charts = await google.colab.kernel.invokeFunction(\n",
              "            'suggestCharts', [key], {});\n",
              "      } catch (error) {\n",
              "        console.error('Error during call to suggestCharts:', error);\n",
              "      }\n",
              "      quickchartButtonEl.classList.remove('colab-df-spinner');\n",
              "      quickchartButtonEl.classList.add('colab-df-quickchart-complete');\n",
              "    }\n",
              "    (() => {\n",
              "      let quickchartButtonEl =\n",
              "        document.querySelector('#df-e89bf308-126b-4333-a867-738b105a0f9f button');\n",
              "      quickchartButtonEl.style.display =\n",
              "        google.colab.kernel.accessAllowed ? 'block' : 'none';\n",
              "    })();\n",
              "  </script>\n",
              "</div>\n",
              "    </div>\n",
              "  </div>\n"
            ],
            "application/vnd.google.colaboratory.intrinsic+json": {
              "type": "dataframe",
              "variable_name": "data"
            }
          },
          "metadata": {},
          "execution_count": 9
        }
      ],
      "source": [
        "data_path = '/content/text.csv'\n",
        "data = pd.read_csv(data_path)\n",
        "data.head()"
      ]
    },
    {
      "cell_type": "markdown",
      "source": [
        "Mengubah label dari indeks ke teks"
      ],
      "metadata": {
        "id": "q8rQftLO6HDT"
      }
    },
    {
      "cell_type": "code",
      "source": [
        "named_label = {0: 'sadness', 1: 'joy', 2: 'love', 3: 'anger', 4: 'fear', 5: 'surprise'}\n",
        "data['label'] = data['label'].map(named_label)"
      ],
      "metadata": {
        "id": "4oK3Z4ps0a_v"
      },
      "execution_count": null,
      "outputs": []
    },
    {
      "cell_type": "code",
      "source": [
        "data.head()"
      ],
      "metadata": {
        "colab": {
          "base_uri": "https://localhost:8080/",
          "height": 206
        },
        "id": "bhGviRzU0_15",
        "outputId": "c42d79c8-1dc4-47fd-b06c-35f6a01c2519"
      },
      "execution_count": null,
      "outputs": [
        {
          "output_type": "execute_result",
          "data": {
            "text/plain": [
              "   Unnamed: 0                                               text    label\n",
              "0           0      i just feel really helpless and heavy hearted     fear\n",
              "1           1  ive enjoyed being able to slouch about relax a...  sadness\n",
              "2           2  i gave up my internship with the dmrg and am f...     fear\n",
              "3           3                         i dont know i feel so lost  sadness\n",
              "4           4  i am a kindergarten teacher and i am thoroughl...     fear"
            ],
            "text/html": [
              "\n",
              "  <div id=\"df-753e3f08-e415-4329-8f39-7f5a92676a6d\" class=\"colab-df-container\">\n",
              "    <div>\n",
              "<style scoped>\n",
              "    .dataframe tbody tr th:only-of-type {\n",
              "        vertical-align: middle;\n",
              "    }\n",
              "\n",
              "    .dataframe tbody tr th {\n",
              "        vertical-align: top;\n",
              "    }\n",
              "\n",
              "    .dataframe thead th {\n",
              "        text-align: right;\n",
              "    }\n",
              "</style>\n",
              "<table border=\"1\" class=\"dataframe\">\n",
              "  <thead>\n",
              "    <tr style=\"text-align: right;\">\n",
              "      <th></th>\n",
              "      <th>Unnamed: 0</th>\n",
              "      <th>text</th>\n",
              "      <th>label</th>\n",
              "    </tr>\n",
              "  </thead>\n",
              "  <tbody>\n",
              "    <tr>\n",
              "      <th>0</th>\n",
              "      <td>0</td>\n",
              "      <td>i just feel really helpless and heavy hearted</td>\n",
              "      <td>fear</td>\n",
              "    </tr>\n",
              "    <tr>\n",
              "      <th>1</th>\n",
              "      <td>1</td>\n",
              "      <td>ive enjoyed being able to slouch about relax a...</td>\n",
              "      <td>sadness</td>\n",
              "    </tr>\n",
              "    <tr>\n",
              "      <th>2</th>\n",
              "      <td>2</td>\n",
              "      <td>i gave up my internship with the dmrg and am f...</td>\n",
              "      <td>fear</td>\n",
              "    </tr>\n",
              "    <tr>\n",
              "      <th>3</th>\n",
              "      <td>3</td>\n",
              "      <td>i dont know i feel so lost</td>\n",
              "      <td>sadness</td>\n",
              "    </tr>\n",
              "    <tr>\n",
              "      <th>4</th>\n",
              "      <td>4</td>\n",
              "      <td>i am a kindergarten teacher and i am thoroughl...</td>\n",
              "      <td>fear</td>\n",
              "    </tr>\n",
              "  </tbody>\n",
              "</table>\n",
              "</div>\n",
              "    <div class=\"colab-df-buttons\">\n",
              "\n",
              "  <div class=\"colab-df-container\">\n",
              "    <button class=\"colab-df-convert\" onclick=\"convertToInteractive('df-753e3f08-e415-4329-8f39-7f5a92676a6d')\"\n",
              "            title=\"Convert this dataframe to an interactive table.\"\n",
              "            style=\"display:none;\">\n",
              "\n",
              "  <svg xmlns=\"http://www.w3.org/2000/svg\" height=\"24px\" viewBox=\"0 -960 960 960\">\n",
              "    <path d=\"M120-120v-720h720v720H120Zm60-500h600v-160H180v160Zm220 220h160v-160H400v160Zm0 220h160v-160H400v160ZM180-400h160v-160H180v160Zm440 0h160v-160H620v160ZM180-180h160v-160H180v160Zm440 0h160v-160H620v160Z\"/>\n",
              "  </svg>\n",
              "    </button>\n",
              "\n",
              "  <style>\n",
              "    .colab-df-container {\n",
              "      display:flex;\n",
              "      gap: 12px;\n",
              "    }\n",
              "\n",
              "    .colab-df-convert {\n",
              "      background-color: #E8F0FE;\n",
              "      border: none;\n",
              "      border-radius: 50%;\n",
              "      cursor: pointer;\n",
              "      display: none;\n",
              "      fill: #1967D2;\n",
              "      height: 32px;\n",
              "      padding: 0 0 0 0;\n",
              "      width: 32px;\n",
              "    }\n",
              "\n",
              "    .colab-df-convert:hover {\n",
              "      background-color: #E2EBFA;\n",
              "      box-shadow: 0px 1px 2px rgba(60, 64, 67, 0.3), 0px 1px 3px 1px rgba(60, 64, 67, 0.15);\n",
              "      fill: #174EA6;\n",
              "    }\n",
              "\n",
              "    .colab-df-buttons div {\n",
              "      margin-bottom: 4px;\n",
              "    }\n",
              "\n",
              "    [theme=dark] .colab-df-convert {\n",
              "      background-color: #3B4455;\n",
              "      fill: #D2E3FC;\n",
              "    }\n",
              "\n",
              "    [theme=dark] .colab-df-convert:hover {\n",
              "      background-color: #434B5C;\n",
              "      box-shadow: 0px 1px 3px 1px rgba(0, 0, 0, 0.15);\n",
              "      filter: drop-shadow(0px 1px 2px rgba(0, 0, 0, 0.3));\n",
              "      fill: #FFFFFF;\n",
              "    }\n",
              "  </style>\n",
              "\n",
              "    <script>\n",
              "      const buttonEl =\n",
              "        document.querySelector('#df-753e3f08-e415-4329-8f39-7f5a92676a6d button.colab-df-convert');\n",
              "      buttonEl.style.display =\n",
              "        google.colab.kernel.accessAllowed ? 'block' : 'none';\n",
              "\n",
              "      async function convertToInteractive(key) {\n",
              "        const element = document.querySelector('#df-753e3f08-e415-4329-8f39-7f5a92676a6d');\n",
              "        const dataTable =\n",
              "          await google.colab.kernel.invokeFunction('convertToInteractive',\n",
              "                                                    [key], {});\n",
              "        if (!dataTable) return;\n",
              "\n",
              "        const docLinkHtml = 'Like what you see? Visit the ' +\n",
              "          '<a target=\"_blank\" href=https://colab.research.google.com/notebooks/data_table.ipynb>data table notebook</a>'\n",
              "          + ' to learn more about interactive tables.';\n",
              "        element.innerHTML = '';\n",
              "        dataTable['output_type'] = 'display_data';\n",
              "        await google.colab.output.renderOutput(dataTable, element);\n",
              "        const docLink = document.createElement('div');\n",
              "        docLink.innerHTML = docLinkHtml;\n",
              "        element.appendChild(docLink);\n",
              "      }\n",
              "    </script>\n",
              "  </div>\n",
              "\n",
              "\n",
              "<div id=\"df-ed5b113e-5f96-41fc-ab69-265a0d0387f3\">\n",
              "  <button class=\"colab-df-quickchart\" onclick=\"quickchart('df-ed5b113e-5f96-41fc-ab69-265a0d0387f3')\"\n",
              "            title=\"Suggest charts\"\n",
              "            style=\"display:none;\">\n",
              "\n",
              "<svg xmlns=\"http://www.w3.org/2000/svg\" height=\"24px\"viewBox=\"0 0 24 24\"\n",
              "     width=\"24px\">\n",
              "    <g>\n",
              "        <path d=\"M19 3H5c-1.1 0-2 .9-2 2v14c0 1.1.9 2 2 2h14c1.1 0 2-.9 2-2V5c0-1.1-.9-2-2-2zM9 17H7v-7h2v7zm4 0h-2V7h2v10zm4 0h-2v-4h2v4z\"/>\n",
              "    </g>\n",
              "</svg>\n",
              "  </button>\n",
              "\n",
              "<style>\n",
              "  .colab-df-quickchart {\n",
              "      --bg-color: #E8F0FE;\n",
              "      --fill-color: #1967D2;\n",
              "      --hover-bg-color: #E2EBFA;\n",
              "      --hover-fill-color: #174EA6;\n",
              "      --disabled-fill-color: #AAA;\n",
              "      --disabled-bg-color: #DDD;\n",
              "  }\n",
              "\n",
              "  [theme=dark] .colab-df-quickchart {\n",
              "      --bg-color: #3B4455;\n",
              "      --fill-color: #D2E3FC;\n",
              "      --hover-bg-color: #434B5C;\n",
              "      --hover-fill-color: #FFFFFF;\n",
              "      --disabled-bg-color: #3B4455;\n",
              "      --disabled-fill-color: #666;\n",
              "  }\n",
              "\n",
              "  .colab-df-quickchart {\n",
              "    background-color: var(--bg-color);\n",
              "    border: none;\n",
              "    border-radius: 50%;\n",
              "    cursor: pointer;\n",
              "    display: none;\n",
              "    fill: var(--fill-color);\n",
              "    height: 32px;\n",
              "    padding: 0;\n",
              "    width: 32px;\n",
              "  }\n",
              "\n",
              "  .colab-df-quickchart:hover {\n",
              "    background-color: var(--hover-bg-color);\n",
              "    box-shadow: 0 1px 2px rgba(60, 64, 67, 0.3), 0 1px 3px 1px rgba(60, 64, 67, 0.15);\n",
              "    fill: var(--button-hover-fill-color);\n",
              "  }\n",
              "\n",
              "  .colab-df-quickchart-complete:disabled,\n",
              "  .colab-df-quickchart-complete:disabled:hover {\n",
              "    background-color: var(--disabled-bg-color);\n",
              "    fill: var(--disabled-fill-color);\n",
              "    box-shadow: none;\n",
              "  }\n",
              "\n",
              "  .colab-df-spinner {\n",
              "    border: 2px solid var(--fill-color);\n",
              "    border-color: transparent;\n",
              "    border-bottom-color: var(--fill-color);\n",
              "    animation:\n",
              "      spin 1s steps(1) infinite;\n",
              "  }\n",
              "\n",
              "  @keyframes spin {\n",
              "    0% {\n",
              "      border-color: transparent;\n",
              "      border-bottom-color: var(--fill-color);\n",
              "      border-left-color: var(--fill-color);\n",
              "    }\n",
              "    20% {\n",
              "      border-color: transparent;\n",
              "      border-left-color: var(--fill-color);\n",
              "      border-top-color: var(--fill-color);\n",
              "    }\n",
              "    30% {\n",
              "      border-color: transparent;\n",
              "      border-left-color: var(--fill-color);\n",
              "      border-top-color: var(--fill-color);\n",
              "      border-right-color: var(--fill-color);\n",
              "    }\n",
              "    40% {\n",
              "      border-color: transparent;\n",
              "      border-right-color: var(--fill-color);\n",
              "      border-top-color: var(--fill-color);\n",
              "    }\n",
              "    60% {\n",
              "      border-color: transparent;\n",
              "      border-right-color: var(--fill-color);\n",
              "    }\n",
              "    80% {\n",
              "      border-color: transparent;\n",
              "      border-right-color: var(--fill-color);\n",
              "      border-bottom-color: var(--fill-color);\n",
              "    }\n",
              "    90% {\n",
              "      border-color: transparent;\n",
              "      border-bottom-color: var(--fill-color);\n",
              "    }\n",
              "  }\n",
              "</style>\n",
              "\n",
              "  <script>\n",
              "    async function quickchart(key) {\n",
              "      const quickchartButtonEl =\n",
              "        document.querySelector('#' + key + ' button');\n",
              "      quickchartButtonEl.disabled = true;  // To prevent multiple clicks.\n",
              "      quickchartButtonEl.classList.add('colab-df-spinner');\n",
              "      try {\n",
              "        const charts = await google.colab.kernel.invokeFunction(\n",
              "            'suggestCharts', [key], {});\n",
              "      } catch (error) {\n",
              "        console.error('Error during call to suggestCharts:', error);\n",
              "      }\n",
              "      quickchartButtonEl.classList.remove('colab-df-spinner');\n",
              "      quickchartButtonEl.classList.add('colab-df-quickchart-complete');\n",
              "    }\n",
              "    (() => {\n",
              "      let quickchartButtonEl =\n",
              "        document.querySelector('#df-ed5b113e-5f96-41fc-ab69-265a0d0387f3 button');\n",
              "      quickchartButtonEl.style.display =\n",
              "        google.colab.kernel.accessAllowed ? 'block' : 'none';\n",
              "    })();\n",
              "  </script>\n",
              "</div>\n",
              "    </div>\n",
              "  </div>\n"
            ],
            "application/vnd.google.colaboratory.intrinsic+json": {
              "type": "dataframe",
              "variable_name": "data"
            }
          },
          "metadata": {},
          "execution_count": 11
        }
      ]
    },
    {
      "cell_type": "code",
      "source": [
        "sample = [data[data['label'] == named_label[i]].iloc[3].text for i in range(6)]\n",
        "sample"
      ],
      "metadata": {
        "colab": {
          "base_uri": "https://localhost:8080/"
        },
        "id": "EPgcWVQaY75R",
        "outputId": "9e7bb2e6-9356-47f6-85c9-52d26edbe837"
      },
      "execution_count": null,
      "outputs": [
        {
          "output_type": "execute_result",
          "data": {
            "text/plain": [
              "['i can still lose the weight without feeling deprived',\n",
              " 'i feel my portfolio demonstrates how eager i am to learn but some who know me better might call it annoyingly persistent',\n",
              " 'i think a guy can make up for lacking funds in romantic ways to make his lady feel taken care of and loved',\n",
              " 'i need to feel dangerous and pretty so here a striking dance pick deep in vogue minutes ago',\n",
              " 'i dunno i just feel scared to walk in after awhile it got ok but when i walk into this room w poorly erected brick walls separating the room into xm partitions',\n",
              " 'im feeling a bit amazed and grateful about having landed amid such a congregation']"
            ]
          },
          "metadata": {},
          "execution_count": 12
        }
      ]
    },
    {
      "cell_type": "code",
      "execution_count": null,
      "metadata": {
        "colab": {
          "base_uri": "https://localhost:8080/"
        },
        "id": "paSAuy7JwQ0O",
        "outputId": "2f38f9ae-6269-48b6-cf8f-9d4a541dfd8a"
      },
      "outputs": [
        {
          "output_type": "stream",
          "name": "stdout",
          "text": [
            "label\n",
            "joy         141067\n",
            "sadness     121187\n",
            "anger        57317\n",
            "fear         47712\n",
            "love         34554\n",
            "surprise     14972\n",
            "Name: count, dtype: int64\n"
          ]
        }
      ],
      "source": [
        "emotion_distribution = data['label'].value_counts()\n",
        "print(emotion_distribution)"
      ]
    },
    {
      "cell_type": "code",
      "execution_count": null,
      "metadata": {
        "colab": {
          "base_uri": "https://localhost:8080/",
          "height": 600
        },
        "id": "jwFU-wggwT-V",
        "outputId": "c9187ce5-8dd2-41f3-cfd5-92b04687af08"
      },
      "outputs": [
        {
          "output_type": "display_data",
          "data": {
            "text/plain": [
              "<Figure size 800x600 with 1 Axes>"
            ],
            "image/png": "[encoded data removed]"
          },
          "metadata": {}
        }
      ],
      "source": [
        "plt.figure(figsize=(8, 6))\n",
        "emotion_distribution.plot(kind='bar', color='skyblue')\n",
        "plt.title('Distribusi Data')\n",
        "plt.xlabel('Kategori')\n",
        "plt.ylabel('Frekuensi')\n",
        "plt.xticks(rotation=45)\n",
        "plt.grid(axis='y', linestyle='--', alpha=0.7)\n",
        "plt.show()"
      ]
    },
    {
      "cell_type": "markdown",
      "source": [
        "## Preprocessing"
      ],
      "metadata": {
        "id": "LKW-8M72htjm"
      }
    },
    {
      "cell_type": "markdown",
      "source": [
        "### Menghilangkan duplikasi"
      ],
      "metadata": {
        "id": "bbzB_fAqh3-1"
      }
    },
    {
      "cell_type": "code",
      "source": [
        "duplicate_data = data[data.duplicated('text', keep=False)]['text']\n",
        "f'Banyak teks yang muncul lebih dari sekali adalah {len(duplicate_data.unique())}'"
      ],
      "metadata": {
        "colab": {
          "base_uri": "https://localhost:8080/",
          "height": 36
        },
        "id": "QjLl2h5VfudN",
        "outputId": "636b7db5-0b52-442e-c958-fd4cf4b38671"
      },
      "execution_count": null,
      "outputs": [
        {
          "output_type": "execute_result",
          "data": {
            "text/plain": [
              "'Banyak teks yang muncul lebih dari sekali adalah 22817'"
            ],
            "application/vnd.google.colaboratory.intrinsic+json": {
              "type": "string"
            }
          },
          "metadata": {},
          "execution_count": 15
        }
      ]
    },
    {
      "cell_type": "code",
      "source": [
        "data.drop_duplicates('text', inplace=True)\n",
        "print(f'Banyak teks setelah dihilangkan duplikasinya adalah: {len(data)}')"
      ],
      "metadata": {
        "colab": {
          "base_uri": "https://localhost:8080/"
        },
        "id": "EuGKdDmPh2-A",
        "outputId": "475cc893-b33c-4f30-ac29-5739d8a31e28"
      },
      "execution_count": null,
      "outputs": [
        {
          "output_type": "stream",
          "name": "stdout",
          "text": [
            "Banyak teks setelah dihilangkan duplikasinya adalah: 393822\n"
          ]
        }
      ]
    },
    {
      "cell_type": "markdown",
      "source": [
        "### Cleansing dan Case Folding"
      ],
      "metadata": {
        "id": "mH9xs5zWkSf-"
      }
    },
    {
      "cell_type": "code",
      "source": [
        "remove_unwanted_char = lambda s: re.sub(r'[^a-zA-Z0-9 ]+', '', s)\n",
        "remove_whitelist = lambda s: ' '.join(s.split())\n",
        "case_folding = lambda s: s.lower()\n",
        "\n",
        "data['text'] = data['text'].apply(remove_unwanted_char).apply(remove_whitelist).apply(case_folding)"
      ],
      "metadata": {
        "id": "BrsnBvJGl7pB"
      },
      "execution_count": null,
      "outputs": []
    },
    {
      "cell_type": "markdown",
      "source": [
        "### Chatword expanding"
      ],
      "metadata": {
        "id": "n-328F-np0q1"
      }
    },
    {
      "cell_type": "code",
      "source": [
        "chat_words = {\n",
        " 'afaik': 'as far as i know',\n",
        " 'afk': 'away from keyboard',\n",
        " 'asap': 'as soon as possible',\n",
        " 'atk': 'at the keyboard',\n",
        " 'atm': 'at the moment',\n",
        " 'a3': 'anytime anywhere anyplace',\n",
        " 'bak': 'back at keyboard',\n",
        " 'bbl': 'be back later',\n",
        " 'bbs': 'be back soon',\n",
        " 'bfn': 'bye for now',\n",
        " 'b4n': 'bye for now',\n",
        " 'brb': 'be right back',\n",
        " 'brt': 'be right there',\n",
        " 'btw': 'by the way',\n",
        " 'b4': 'before',\n",
        " 'cu': 'see you',\n",
        " 'cul8r': 'see you later',\n",
        " 'cya': 'see you',\n",
        " 'faq': 'frequently asked questions',\n",
        " 'fc': 'fingers crossed',\n",
        " 'fwiw': \"for what its worth\",\n",
        " 'fyi': 'for your information',\n",
        " 'gal': 'get a life',\n",
        " 'gg': 'good game',\n",
        " 'gn': 'good night',\n",
        " 'gmta': 'great minds think alike',\n",
        " 'gr8': 'great',\n",
        " 'g9': 'genius',\n",
        " 'ic': 'i see',\n",
        " 'icq': 'i seek you',\n",
        " 'ilu': 'i love you',\n",
        " 'imho': 'in my honest opinion',\n",
        " 'imo': 'in my opinion',\n",
        " 'iow': 'in other words',\n",
        " 'irl': 'in real life',\n",
        " 'kiss': 'keep it simple stupid',\n",
        " 'ldr': 'long distance relationship',\n",
        " 'lmao': 'laugh my axx off',\n",
        " 'lol': 'laughing out loud',\n",
        " 'ltns': 'long time no see',\n",
        " 'l8r': 'later',\n",
        " 'mte': 'my thoughts exactly',\n",
        " 'm8': 'mate',\n",
        " 'nrn': 'no reply necessary',\n",
        " 'oic': 'oh i see',\n",
        " 'pita': 'pain in the axx',\n",
        " 'prt': 'party',\n",
        " 'prw': 'parents are watching',\n",
        " 'qpsa?': 'que pasa',\n",
        " 'rofl': 'rolling on the floor laughing',\n",
        " 'roflol': 'rolling on the floor laughing out loud',\n",
        " 'rotflmao': 'rolling on the floor laughing my axx off',\n",
        " 'sk8': 'skate',\n",
        " 'stats': 'your sex and age',\n",
        " 'asl': 'age sex location',\n",
        " 'thx': 'thank you',\n",
        " 'ttfn': 'tata for now',\n",
        " 'ttyl': 'talk to you later',\n",
        " 'u': 'you',\n",
        " 'u2': 'you too',\n",
        " 'u4e': 'yours for ever',\n",
        " 'wb': 'welcome back',\n",
        " 'wtf': 'what the fxxx',\n",
        " 'wtg': 'way to go',\n",
        " 'wuf': 'where are you from',\n",
        " 'w8': 'wait',\n",
        " '7k': 'sick laugher',\n",
        " 'tfw': 'that feeling when',\n",
        " 'mfw': 'my face when',\n",
        " 'mrw': 'my reaction when',\n",
        " 'ifyp': 'i feel your pain',\n",
        " 'tntl': 'trying not to laugh',\n",
        " 'jk': 'just kidding',\n",
        " 'idc': \"i dont care\",\n",
        " 'ily': 'i love you',\n",
        " 'imu': 'i miss you',\n",
        " 'adih': 'another day in hell',\n",
        " 'zzz': 'sleeping bored tired',\n",
        " 'wywh': 'wish you were here',\n",
        " 'time': 'tears in my eyes',\n",
        " 'bae': 'before anyone else',\n",
        " 'fimh': 'forever in my heart',\n",
        " 'bsaaw': 'big smile and a wink',\n",
        " 'bwl': 'bursting with laughter',\n",
        " 'bff': 'best friends forever',\n",
        " 'csl': \"cant stop laughing\"\n",
        "}"
      ],
      "metadata": {
        "id": "Dbmjeco6sU7h"
      },
      "execution_count": null,
      "outputs": []
    },
    {
      "cell_type": "code",
      "source": [
        "def chatword_expanding(s):\n",
        "  words = s.split()\n",
        "  for i, word in enumerate(words):\n",
        "    if word in chat_words:\n",
        "      words[i] = chat_words[word]\n",
        "  return ' '.join(words)\n",
        "\n",
        "data['text'] = data['text'].apply(chatword_expanding)"
      ],
      "metadata": {
        "id": "bHYK5eKfwq31"
      },
      "execution_count": null,
      "outputs": []
    },
    {
      "cell_type": "markdown",
      "source": [
        "### Stopword removal"
      ],
      "metadata": {
        "id": "xsse6wwsp6sQ"
      }
    },
    {
      "cell_type": "code",
      "source": [
        "# Download NLTK stopwords corpus\n",
        "nltk.download('stopwords')\n",
        "\n",
        "# Get English stopwords from NLTK\n",
        "stop_words = set(stopwords.words('english'))"
      ],
      "metadata": {
        "colab": {
          "base_uri": "https://localhost:8080/"
        },
        "id": "POkqY9I9qBu3",
        "outputId": "b02cbae6-a03d-424f-e54f-94214705fc25"
      },
      "execution_count": null,
      "outputs": [
        {
          "output_type": "stream",
          "name": "stderr",
          "text": [
            "[nltk_data] Downloading package stopwords to /root/nltk_data...\n",
            "[nltk_data]   Unzipping corpora/stopwords.zip.\n"
          ]
        }
      ]
    },
    {
      "cell_type": "code",
      "source": [
        "def remove_stopwords(s):\n",
        "  words = s.split()\n",
        "  filtered_words = [word for word in words if word not in stop_words]\n",
        "  return ' '.join(filtered_words)\n",
        "\n",
        "data['text'] = data['text'].apply(remove_stopwords)"
      ],
      "metadata": {
        "id": "Dsnh7bG7x60n"
      },
      "execution_count": null,
      "outputs": []
    },
    {
      "cell_type": "markdown",
      "source": [
        "### Stemming"
      ],
      "metadata": {
        "id": "JspMWIdTqB-o"
      }
    },
    {
      "cell_type": "code",
      "source": [
        "from nltk.stem import PorterStemmer\n",
        "\n",
        "porter_stemmer = PorterStemmer()\n",
        "stem_word = lambda x: ' '.join([porter_stemmer.stem(word) for word in x.split()])\n",
        "\n",
        "data['text'] = data['text'].apply(stem_word)"
      ],
      "metadata": {
        "id": "a3WXzggIqFIZ"
      },
      "execution_count": null,
      "outputs": []
    },
    {
      "cell_type": "markdown",
      "source": [
        "## Dataset Split"
      ],
      "metadata": {
        "id": "Bt1JOR6E4Rbt"
      }
    },
    {
      "cell_type": "code",
      "source": [
        "# Split the dataset into training and testing sets\n",
        "X_train, X_test, y_train, y_test = train_test_split(data['text'], data['label'], test_size=0.2, random_state=42)"
      ],
      "metadata": {
        "id": "mo1PmLOTIDF-"
      },
      "execution_count": null,
      "outputs": []
    },
    {
      "cell_type": "code",
      "source": [
        "vocabs = set()\n",
        "for x in X_train.apply(lambda s: set(s.split())):\n",
        "  for w in x:\n",
        "    if w not in vocabs:\n",
        "      vocabs.add(w)\n",
        "n_vocab = len(vocabs)"
      ],
      "metadata": {
        "id": "gnb2a6vMGfHR"
      },
      "execution_count": null,
      "outputs": []
    },
    {
      "cell_type": "code",
      "source": [
        "f'Banyak vocabulary pada data train adalah {n_vocab}'"
      ],
      "metadata": {
        "colab": {
          "base_uri": "https://localhost:8080/",
          "height": 36
        },
        "id": "mDOEa5p6G4Oy",
        "outputId": "30221b11-a673-430f-d06a-f0e3c1cc0df9"
      },
      "execution_count": null,
      "outputs": [
        {
          "output_type": "execute_result",
          "data": {
            "text/plain": [
              "'Banyak vocabulary pada data train adalah 46082'"
            ],
            "application/vnd.google.colaboratory.intrinsic+json": {
              "type": "string"
            }
          },
          "metadata": {},
          "execution_count": 25
        }
      ]
    },
    {
      "cell_type": "markdown",
      "source": [
        "## Feature Extractor"
      ],
      "metadata": {
        "id": "zcpjGkrE0nxc"
      }
    },
    {
      "cell_type": "code",
      "source": [
        "class FeatureExtractor:\n",
        "  def __init__(self, max_feature=None):\n",
        "    # CountVectorizer digunakan menghitung frekuensi dan menyimpannya dalam\n",
        "    # tipe data sparse matrix sehingga hanya memerlukan lebih sedikit memory\n",
        "    self.__tokenizer = CountVectorizer(max_features=max_feature)\n",
        "\n",
        "  def __set_idf(self, freq):\n",
        "    n = freq.shape[0] + 1\n",
        "    df = np.bincount(freq.indices, minlength=freq.shape[1])\n",
        "    dtype = freq.dtype if freq.dtype in (np.float64, np.float32) else np.float64\n",
        "    df = df.astype(dtype, copy=False) + 1.0\n",
        "    idf =  np.log(n / df) + 1.0\n",
        "    self.__idf = idf\n",
        "\n",
        "  def __normalize(self, X):\n",
        "    n = X.shape[0]\n",
        "    ptr = X.indptr\n",
        "    dt = X.data\n",
        "    for i in range(n):\n",
        "      s = 0\n",
        "      for j in range(ptr[i], ptr[i+1]):\n",
        "        s += (dt[j] * dt[j])\n",
        "      if s == 0:\n",
        "        continue\n",
        "      s = np.sqrt(s)\n",
        "      for j in range(ptr[i], ptr[i+1]):\n",
        "        X.data[j] /= s\n",
        "    return X\n",
        "\n",
        "  def fit(self, X):\n",
        "    freq = self.__tokenizer.fit_transform(X)\n",
        "    self.__set_idf(freq)\n",
        "\n",
        "  def transform(self, X, only_tf=False):\n",
        "    freq = self.__tokenizer.transform(X)\n",
        "    dtype = freq.dtype if freq.dtype in (np.float64, np.float32) else np.float64\n",
        "    tfidf = freq.astype(dtype, copy=True)\n",
        "    if not only_tf:\n",
        "      tfidf.data *= self.__idf[tfidf.indices]\n",
        "    tfidf = self.__normalize(tfidf)\n",
        "    return tfidf"
      ],
      "metadata": {
        "id": "2U3j5WDk68mX"
      },
      "execution_count": null,
      "outputs": []
    },
    {
      "cell_type": "markdown",
      "source": [
        "## Experiment"
      ],
      "metadata": {
        "id": "M8FZUri7Rg9V"
      }
    },
    {
      "cell_type": "markdown",
      "source": [
        "Mengekstrak fitur data dimana banyak kata (vocabulary) dibatasi dengan threshold tertentu"
      ],
      "metadata": {
        "id": "ld_uDbBxF-HA"
      }
    },
    {
      "cell_type": "code",
      "source": [
        "threshold = np.linspace(0, 1.0, num=51, endpoint=True)[1:]\n",
        "extractor_data = []\n",
        "for t in threshold:\n",
        "  max_feat = int(t*n_vocab)\n",
        "  data = {'max_feat': max_feat}\n",
        "  extractor = FeatureExtractor(max_feature=max_feat)\n",
        "\n",
        "  start = time.time()\n",
        "  extractor.fit(X_train)\n",
        "  fit_time = time.time() - start\n",
        "\n",
        "  start = time.time()\n",
        "  X_train_tfidf = extractor.transform(X_train)\n",
        "  train_tfidf_time = time.time() - start\n",
        "  start = time.time()\n",
        "  X_test_tfidf = extractor.transform(X_test)\n",
        "  test_tfidf_time = time.time() - start\n",
        "\n",
        "  start = time.time()\n",
        "  X_train_tf = extractor.transform(X_train, only_tf=True)\n",
        "  train_tf_time = time.time() - start\n",
        "  start = time.time()\n",
        "  X_test_tf = extractor.transform(X_test, only_tf=True)\n",
        "  test_tf_time = time.time() - start\n",
        "\n",
        "  data['fit_time'] = fit_time\n",
        "  data['train_tfidf_time'] = train_tfidf_time\n",
        "  data['test_tfidf_time'] = test_tfidf_time\n",
        "  data['train_tf_time'] = train_tf_time\n",
        "  data['test_tf_time'] = test_tf_time\n",
        "  data['train_tfidf'] = X_train_tfidf\n",
        "  data['test_tfidf'] = X_test_tfidf\n",
        "  data['train_tf'] = X_train_tf\n",
        "  data['test_tf'] = X_test_tf\n",
        "\n",
        "  extractor_data.append(data)"
      ],
      "metadata": {
        "id": "HPTlD6iik4hp"
      },
      "execution_count": null,
      "outputs": []
    },
    {
      "cell_type": "code",
      "source": [
        "labels = list(named_label.values())"
      ],
      "metadata": {
        "id": "CAEpFP8q46Eq"
      },
      "execution_count": null,
      "outputs": []
    },
    {
      "cell_type": "markdown",
      "source": [
        "Model Logistic Regression dengan bobot kelas *same*"
      ],
      "metadata": {
        "id": "ok3aNhkylnki"
      }
    },
    {
      "cell_type": "code",
      "source": [
        "conf_data = []\n",
        "for i,ed in enumerate(extractor_data[-1:]):\n",
        "  X_train_tfidf = ed['train_tfidf']\n",
        "  X_test_tfidf = ed['test_tfidf']\n",
        "  X_train_tf = ed['train_tf']\n",
        "  X_test_tf = ed['test_tf']\n",
        "\n",
        "  conf_d = {}\n",
        "\n",
        "  model = LogisticRegression(solver='saga', max_iter=1000)\n",
        "  start = time.time()\n",
        "  model.fit(X_train_tfidf, y_train)\n",
        "  lr_tfidf_fit_time = time.time() - start\n",
        "  y_train_pred = model.predict(X_train_tfidf)\n",
        "  y_test_pred = model.predict(X_test_tfidf)\n",
        "  conf_train = confusion_matrix(y_train, y_train_pred, labels=labels)\n",
        "  conf_test = confusion_matrix(y_test, y_test_pred, labels=labels)\n",
        "  conf_d['lr_tfidf_fit_time'] = lr_tfidf_fit_time\n",
        "  conf_d['conf_tfidf_train'] = conf_train\n",
        "  conf_d['conf_tfidf_test'] = conf_test\n",
        "\n",
        "  model = LogisticRegression(solver='saga', max_iter=1000)\n",
        "  start = time.time()\n",
        "  model.fit(X_train_tf, y_train)\n",
        "  lr_tf_fit_time = time.time() - start\n",
        "  y_train_pred = model.predict(X_train_tf)\n",
        "  y_test_pred = model.predict(X_test_tf)\n",
        "  conf_train = confusion_matrix(y_train, y_train_pred, labels=labels)\n",
        "  conf_test = confusion_matrix(y_test, y_test_pred, labels=labels)\n",
        "  conf_d['lr_tf_fit_time'] = lr_tf_fit_time\n",
        "  conf_d['conf_tf_train'] = conf_train\n",
        "  conf_d['conf_tf_test'] = conf_test\n",
        "\n",
        "  conf_data.append(conf_d)\n",
        "  print(lr_tfidf_fit_time)\n",
        "  print(lr_tf_fit_time)"
      ],
      "metadata": {
        "id": "sJ8iBBBaSr_8"
      },
      "execution_count": null,
      "outputs": []
    },
    {
      "cell_type": "markdown",
      "source": [
        "Model Logistic Regression dengan bobot kelas *balanced*"
      ],
      "metadata": {
        "id": "ydJ3MnvAm2yb"
      }
    },
    {
      "cell_type": "code",
      "source": [
        "conf_data = []\n",
        "for i,ed in enumerate(extractor_data[-1:]):\n",
        "  X_train_tfidf = ed['train_tfidf']\n",
        "  X_test_tfidf = ed['test_tfidf']\n",
        "  X_train_tf = ed['train_tf']\n",
        "  X_test_tf = ed['test_tf']\n",
        "\n",
        "  conf_d = {}\n",
        "\n",
        "  model = LogisticRegression(solver='saga', class_weight='balanced', max_iter=1000)\n",
        "  start = time.time()\n",
        "  model.fit(X_train_tfidf, y_train)\n",
        "  lr_tfidf_fit_time = time.time() - start\n",
        "  y_train_pred = model.predict(X_train_tfidf)\n",
        "  y_test_pred = model.predict(X_test_tfidf)\n",
        "  conf_train = confusion_matrix(y_train, y_train_pred, labels=labels)\n",
        "  conf_test = confusion_matrix(y_test, y_test_pred, labels=labels)\n",
        "  conf_d['lr_tfidf_fit_time'] = lr_tfidf_fit_time\n",
        "  conf_d['conf_tfidf_train'] = conf_train\n",
        "  conf_d['conf_tfidf_test'] = conf_test\n",
        "\n",
        "  model = LogisticRegression(solver='saga', class_weight='balanced', max_iter=1000)\n",
        "  start = time.time()\n",
        "  model.fit(X_train_tf, y_train)\n",
        "  lr_tf_fit_time = time.time() - start\n",
        "  y_train_pred = model.predict(X_train_tf)\n",
        "  y_test_pred = model.predict(X_test_tf)\n",
        "  conf_train = confusion_matrix(y_train, y_train_pred, labels=labels)\n",
        "  conf_test = confusion_matrix(y_test, y_test_pred, labels=labels)\n",
        "  conf_d['lr_tf_fit_time'] = lr_tf_fit_time\n",
        "  conf_d['conf_tf_train'] = conf_train\n",
        "  conf_d['conf_tf_test'] = conf_test\n",
        "\n",
        "  conf_data.append(conf_d)\n",
        "  print(lr_tfidf_fit_time)\n",
        "  print(lr_tf_fit_time)"
      ],
      "metadata": {
        "id": "CK1bzHiq_Rp4"
      },
      "execution_count": null,
      "outputs": []
    },
    {
      "cell_type": "markdown",
      "source": [
        "## Analysis"
      ],
      "metadata": {
        "id": "fzwsB6Et_-cQ"
      }
    },
    {
      "cell_type": "code",
      "source": [
        "with open('/content/main_data.pk', 'rb') as f:\n",
        "  pk_main = pickle.load(f)"
      ],
      "metadata": {
        "id": "S4EhDE9PtF80"
      },
      "execution_count": null,
      "outputs": []
    },
    {
      "cell_type": "code",
      "source": [
        "pk_main[0].keys()"
      ],
      "metadata": {
        "colab": {
          "base_uri": "https://localhost:8080/"
        },
        "id": "Esf8nbbCDr0G",
        "outputId": "93faaaa5-f95d-4edd-d620-7265bf1d921f"
      },
      "execution_count": null,
      "outputs": [
        {
          "output_type": "execute_result",
          "data": {
            "text/plain": [
              "dict_keys(['fit_time', 'train_tfidf_time', 'test_tfidf_time', 'train_tf_time', 'test_tf_time'])"
            ]
          },
          "metadata": {},
          "execution_count": 3
        }
      ]
    },
    {
      "cell_type": "code",
      "source": [
        "threshold = np.linspace(0, 1.0, num=51, endpoint=True)[1:]\n",
        "freq = threshold * n_vocab"
      ],
      "metadata": {
        "id": "7g-vG8s9mB-y"
      },
      "execution_count": null,
      "outputs": []
    },
    {
      "cell_type": "code",
      "source": [
        "fit_time = [(pk['fit_time']+pk['train_tfidf_time']) for pk in pk_main]\n",
        "plt.plot(freq, fit_time)\n",
        "plt.xlabel('Banyak komponen fitur yang digunakan')\n",
        "plt.ylabel('Waktu pemrosesan (dalam detik)')\n",
        "plt.show()"
      ],
      "metadata": {
        "colab": {
          "base_uri": "https://localhost:8080/",
          "height": 449
        },
        "id": "_AvE8PlZAZrK",
        "outputId": "f79f534e-1c66-4ccd-dbdb-ef79943ebfe1"
      },
      "execution_count": null,
      "outputs": [
        {
          "output_type": "display_data",
          "data": {
            "text/plain": [
              "<Figure size 640x480 with 1 Axes>"
            ],
            "image/png": "[encoded data removed]"
          },
          "metadata": {}
        }
      ]
    },
    {
      "cell_type": "code",
      "source": [
        "tf_feat_t = np.array([pk['train_tf_time'] for pk in pk_main])\n",
        "tfidf_feat_t = np.array([pk['train_tfidf_time'] for pk in pk_main])\n",
        "print(f'TF: {np.mean(tf_feat_t)}')\n",
        "print(f'TFIDF: {np.mean(tfidf_feat_t)}')\n",
        "r = (np.mean(tfidf_feat_t) - np.mean(tf_feat_t)) / np.mean(tf_feat_t) * 100\n",
        "print(f'ratio: {r}')"
      ],
      "metadata": {
        "colab": {
          "base_uri": "https://localhost:8080/"
        },
        "id": "jium-XoVAbBA",
        "outputId": "6105cacb-8a39-4216-b22b-ae3663ac15fc"
      },
      "execution_count": null,
      "outputs": [
        {
          "output_type": "stream",
          "name": "stdout",
          "text": [
            "TF: 7.324586200714111\n",
            "TFIDF: 7.409243779182434\n",
            "ratio: 1.1558001523699633\n"
          ]
        }
      ]
    },
    {
      "cell_type": "code",
      "source": [
        "with open('/content/lr_conf_data.pk', 'rb') as f:\n",
        "  pk_lr = pickle.load(f)\n",
        "\n",
        "with open('/content/lrb_conf_data.pk', 'rb') as f:\n",
        "  pk_lrb = pickle.load(f)"
      ],
      "metadata": {
        "id": "6A_D36VFIbsU"
      },
      "execution_count": null,
      "outputs": []
    },
    {
      "cell_type": "code",
      "source": [
        "pk_lr[0].keys()"
      ],
      "metadata": {
        "colab": {
          "base_uri": "https://localhost:8080/"
        },
        "id": "2eqOfJwdKl4m",
        "outputId": "0e60e1fa-4882-4cd3-985c-fa3f4c24e2f0"
      },
      "execution_count": null,
      "outputs": [
        {
          "output_type": "execute_result",
          "data": {
            "text/plain": [
              "dict_keys(['lr_tfidf_fit_time', 'conf_tfidf_train', 'conf_tfidf_test', 'lr_tf_fit_time', 'conf_tf_train', 'conf_tf_test'])"
            ]
          },
          "metadata": {},
          "execution_count": 41
        }
      ]
    },
    {
      "cell_type": "code",
      "source": [
        "lr_time = [pk['lr_tf_fit_time'] for pk in pk_lr]\n",
        "lrb_time = [pk['lr_tf_fit_time']*10 for pk in pk_lrb]"
      ],
      "metadata": {
        "id": "tvtgcT0nKoNx"
      },
      "execution_count": null,
      "outputs": []
    },
    {
      "cell_type": "code",
      "source": [
        "plt.plot(freq, lr_time, color='blue')\n",
        "plt.xlabel('Banyak komponen fitur yang digunakan')\n",
        "plt.ylabel('Waktu pelatihan (dalam detik)')\n",
        "plt.show()"
      ],
      "metadata": {
        "colab": {
          "base_uri": "https://localhost:8080/",
          "height": 449
        },
        "id": "R26QuCOTLeJZ",
        "outputId": "bb03beb6-5f04-4e12-a62f-31a21f3e8894"
      },
      "execution_count": null,
      "outputs": [
        {
          "output_type": "display_data",
          "data": {
            "text/plain": [
              "<Figure size 640x480 with 1 Axes>"
            ],
            "image/png": "[encoded data removed]"
          },
          "metadata": {}
        }
      ]
    },
    {
      "cell_type": "code",
      "source": [
        "plt.plot(freq, lrb_time, color='red')\n",
        "plt.xlabel('Banyak komponen fitur yang digunakan')\n",
        "plt.ylabel('Waktu pelatihan (dalam detik)')\n",
        "plt.show()"
      ],
      "metadata": {
        "colab": {
          "base_uri": "https://localhost:8080/",
          "height": 449
        },
        "id": "_uv2EIMnKy2r",
        "outputId": "35976727-3114-48c4-870f-2a8b12c10d55"
      },
      "execution_count": null,
      "outputs": [
        {
          "output_type": "display_data",
          "data": {
            "text/plain": [
              "<Figure size 640x480 with 1 Axes>"
            ],
            "image/png": "[encoded data removed]"
          },
          "metadata": {}
        }
      ]
    },
    {
      "cell_type": "code",
      "source": [
        "def macro_avg(data):\n",
        "  return np.mean(data)\n",
        "\n",
        "def my_metr(conf_mt):\n",
        "  acc = np.trace(conf_mt) / np.sum(conf_mt)\n",
        "  pr = np.diagonal(conf_mt) / np.sum(conf_mt, axis=0)\n",
        "  rc = np.diagonal(conf_mt) / np.sum(conf_mt, axis=1)\n",
        "  f1 = 2*pr*rc/(pr+rc)\n",
        "  return acc, macro_avg(pr), macro_avg(rc), macro_avg(f1)"
      ],
      "metadata": {
        "id": "ATBzgGb6K7S5"
      },
      "execution_count": null,
      "outputs": []
    },
    {
      "cell_type": "code",
      "source": [
        "idxs = [0, 14, 29, 49]\n",
        "res = []\n",
        "for i in idxs:\n",
        "  lr_tf = my_metr(pk_lr[i]['conf_tf_test'])\n",
        "  lr_tfidf = my_metr(pk_lr[i]['conf_tfidf_test'])\n",
        "  lrb_tf = my_metr(pk_lrb[i]['conf_tf_test'])\n",
        "  lrb_tfidf = my_metr(pk_lrb[i]['conf_tfidf_test'])\n",
        "  res.append([lr_tf, lrb_tf, lr_tfidf, lrb_tfidf])"
      ],
      "metadata": {
        "id": "CgkIUDqpmarQ"
      },
      "execution_count": null,
      "outputs": []
    },
    {
      "cell_type": "code",
      "source": [
        "acc_y = []\n",
        "pr_y = []\n",
        "rc_y = []\n",
        "f1_y = []\n",
        "for res in pk_lr:\n",
        "  acc, pr, rc, f1 = my_metr(res['conf_tfidf_test'])\n",
        "  acc_y.append(acc)\n",
        "  pr_y.append(pr)\n",
        "  rc_y.append(rc)\n",
        "  f1_y.append(f1)"
      ],
      "metadata": {
        "id": "-ZgvTy0fpZE1"
      },
      "execution_count": null,
      "outputs": []
    },
    {
      "cell_type": "code",
      "source": [
        "limit_n = len(acc_y)\n",
        "plt.plot(freq[:limit_n], acc_y[:limit_n], label='ACC')\n",
        "plt.plot(freq[:limit_n], pr_y[:limit_n], label='MAP')\n",
        "plt.plot(freq[:limit_n], rc_y[:limit_n], label='MAR')\n",
        "plt.plot(freq[:limit_n], f1_y[:limit_n], label='MAF')\n",
        "plt.xlabel('Banyak komponen fitur yang digunakan')\n",
        "plt.ylabel('Nilai metrik')\n",
        "plt.legend()\n",
        "plt.show()"
      ],
      "metadata": {
        "colab": {
          "base_uri": "https://localhost:8080/",
          "height": 449
        },
        "id": "gvJ5se5et-RB",
        "outputId": "ca7f70cf-2333-4f9d-e941-978e0b0b827e"
      },
      "execution_count": null,
      "outputs": [
        {
          "output_type": "display_data",
          "data": {
            "text/plain": [
              "<Figure size 640x480 with 1 Axes>"
            ],
            "image/png": "[encoded data removed]"
          },
          "metadata": {}
        }
      ]
    }
  ],
  "metadata": {
    "colab": {
      "provenance": [],
      "toc_visible": true
    },
    "kernelspec": {
      "display_name": "Python 3",
      "name": "python3"
    },
    "language_info": {
      "name": "python"
    }
  },
  "nbformat": 4,
  "nbformat_minor": 0
}